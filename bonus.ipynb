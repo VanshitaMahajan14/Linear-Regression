{
 "cells": [
  {
   "cell_type": "code",
   "execution_count": 1,
   "id": "1c6dae51",
   "metadata": {},
   "outputs": [],
   "source": [
    "import pandas as pd\n",
    "import numpy as np\n",
    "import seaborn as sns\n",
    "import pickle\n",
    "import matplotlib.pyplot as plt\n",
    "\n",
    "from sklearn.model_selection import KFold\n",
    "from sklearn.linear_model import LinearRegression\n",
    "from sklearn.preprocessing import PolynomialFeatures\n",
    "from tabulate import tabulate\n",
    "from scipy.optimize import curve_fit\n",
    "from scipy.stats import linregress"
   ]
  },
  {
   "cell_type": "code",
   "execution_count": 2,
   "id": "188785d3",
   "metadata": {},
   "outputs": [
    {
     "name": "stdout",
     "output_type": "stream",
     "text": [
      "1000\n"
     ]
    }
   ],
   "source": [
    "#loading train data set\n",
    "\n",
    "with open('capacitor_dataset.pickle','rb') as f:\n",
    "    file_train = pickle.load(f)\n",
    "    train = pd.DataFrame(file_train,columns = ['Time','Charge'])\n",
    "#     print(train)\n",
    "    print(len(train))"
   ]
  },
  {
   "cell_type": "code",
   "execution_count": 3,
   "id": "50549048",
   "metadata": {},
   "outputs": [
    {
     "data": {
      "image/png": "[encoded data removed]",
      "text/plain": [
       "<Figure size 1080x864 with 1 Axes>"
      ]
     },
     "metadata": {
      "needs_background": "light"
     },
     "output_type": "display_data"
    }
   ],
   "source": [
    "# Plotting the Training set\n",
    "\n",
    "plt.figure(figsize=(15,12))\n",
    "plt.scatter(train['Time'], train['Charge'])\n",
    "plt.xlabel('time', fontsize=13)\n",
    "plt.ylabel('charge', fontsize=13)\n",
    "plt.title('Training Set Curve', fontsize=16)\n",
    "plt.show()"
   ]
  },
  {
   "cell_type": "markdown",
   "id": "d5cc3922",
   "metadata": {},
   "source": [
    "Given graph depicts charge (on Y axis) as s function of time (on X axis)"
   ]
  },
  {
   "cell_type": "code",
   "execution_count": 4,
   "id": "3fc6a94d",
   "metadata": {},
   "outputs": [],
   "source": [
    "train_time = train['Time']\n",
    "train_charge = train['Charge']\n",
    "vo = 5.0\n",
    "\n",
    "ln_charge = np.log(train_charge)\n",
    "\n",
    "# print(train_time)\n",
    "# print(train_charge)"
   ]
  },
  {
   "cell_type": "markdown",
   "id": "ac5ccb5c",
   "metadata": {},
   "source": [
    "Now we have the formula \n",
    "q = CV * exp(-t/RC) <br>\n",
    "q = Q * exp(-t/RC) <br>\n",
    "Q -> initial charge on capacitor <br>\n",
    "R -> Resistance of capacitor <br>\n",
    "C -> Capacitance of capacitor <br>\n",
    "t ->time <br>\n",
    "\n",
    "Now taking natural logarithm on both sides, <br>\n",
    "\n",
    "ln(q) = ln(CVo * exp(-t/RC)) <br>\n",
    "ln(q) = ln(CVo)) + ln(exp(-t/RC) <br>\n",
    "ln(q) = ln(CVo) - t/RC <br>\n",
    "\n",
    "Now ln(q) varies linearly with t, with slope = -1/RC, y-intercept = ln(CVo).<br>\n",
    "\n",
    "We now apply linear regression to this."
   ]
  },
  {
   "cell_type": "code",
   "execution_count": 5,
   "id": "f7f7afc2",
   "metadata": {},
   "outputs": [],
   "source": [
    "train_time = np.array(train_time).reshape(-1,1)\n",
    "trained_model = LinearRegression().fit(train_time, ln_charge)\n",
    "\n",
    "# Extract slope and intercept\n",
    "slope = trained_model.coef_[0]   #extracting slope from trained model\n",
    "intercept = trained_model.intercept_  #extracting intercept from trained model"
   ]
  },
  {
   "cell_type": "markdown",
   "id": "96be9e67",
   "metadata": {},
   "source": [
    "since slope = -1/RC, <br>\n",
    "RC = -1/slope <br>\n",
    "and <br>\n",
    "ln(CVo) = y-intercept <br>\n",
    "ln(c * 5) = y-intercept <br>\n",
    "c * 5 = exp(y-intercept) <br>\n",
    "c = exp(y-intercept)/5"
   ]
  },
  {
   "cell_type": "code",
   "execution_count": 6,
   "id": "881611ce",
   "metadata": {},
   "outputs": [
    {
     "name": "stdout",
     "output_type": "stream",
     "text": [
      "Slope m = -0.2000\n",
      "Intercept b = -8.2940\n"
     ]
    }
   ],
   "source": [
    "# Print results\n",
    "print(\"Slope m = {:.4f}\".format(slope))\n",
    "print(\"Intercept b = {:.4f}\".format(intercept))"
   ]
  },
  {
   "cell_type": "code",
   "execution_count": 7,
   "id": "74899c2f",
   "metadata": {},
   "outputs": [
    {
     "name": "stdout",
     "output_type": "stream",
     "text": [
      "Capacitance C = 0.00005000 Farads\n",
      "Resistance R = 100000.00000001 Ohms\n"
     ]
    }
   ],
   "source": [
    "C = np.exp(intercept)/5.000\n",
    "R = -1.0/(slope*C)\n",
    "\n",
    "print(f\"Capacitance C = {C:.8f} Farads\")\n",
    "print(f\"Resistance R = {R:.8f} Ohms\")"
   ]
  }
 ],
 "metadata": {
  "kernelspec": {
   "display_name": "Python 3 (ipykernel)",
   "language": "python",
   "name": "python3"
  },
  "language_info": {
   "codemirror_mode": {
    "name": "ipython",
    "version": 3
   },
   "file_extension": ".py",
   "mimetype": "text/x-python",
   "name": "python",
   "nbconvert_exporter": "python",
   "pygments_lexer": "ipython3",
   "version": "3.8.10"
  }
 },
 "nbformat": 4,
 "nbformat_minor": 5
}
